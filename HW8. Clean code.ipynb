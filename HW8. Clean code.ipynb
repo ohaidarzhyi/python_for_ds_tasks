{
 "cells": [
  {
   "cell_type": "markdown",
   "id": "3fca1b22",
   "metadata": {
    "ExecuteTime": {
     "end_time": "2023-07-27T20:14:32.871852Z",
     "start_time": "2023-07-27T20:14:31.036121Z"
    }
   },
   "source": [
    "У завданнях 1-4. Вам наданий простий код на Python, який не відповідає вказівкам PEP8. Ваше завдання — відредагувати код так, аби він відповідав PEP8. Напишіть після редагуванню коду, дотримання яких правил з pep8 ви досягли в відредагованій версі, наприклад\n",
    "```\n",
    "- додала пробіли навколо бінарного оператора\n",
    "- додала два порожні рядки між визначеннями функцій\n",
    "і тд\n",
    "```\n",
    "Також можна зазанчити використані правила коментарями по коду, а не окремим повідомленням.\n",
    "\n",
    "Відредагований код має виконувати весь той самий функціонал, але бути написаний відповідно до вимог до гарного коду на Python! Не забудьте запустити відредагований код, він має бути робочим."
   ]
  },
  {
   "cell_type": "markdown",
   "id": "97c9dae7",
   "metadata": {},
   "source": [
    "Завдання 1."
   ]
  },
  {
   "cell_type": "code",
   "execution_count": 1,
   "id": "ed9117b5",
   "metadata": {
    "ExecuteTime": {
     "end_time": "2023-08-27T09:59:27.606125Z",
     "start_time": "2023-08-27T09:59:27.548190Z"
    }
   },
   "outputs": [
    {
     "name": "stdout",
     "output_type": "stream",
     "text": [
      "Hello, John\n"
     ]
    },
    {
     "data": {
      "text/plain": [
       "None"
      ]
     },
     "metadata": {},
     "output_type": "display_data"
    },
    {
     "data": {
      "text/plain": [
       "8"
      ]
     },
     "metadata": {},
     "output_type": "display_data"
    }
   ],
   "source": [
    "def greet(name):\n",
    "    print(f\"Hello, {name}\")\n",
    "    \n",
    "    \n",
    "def add(n1, n2):\n",
    "    return n1 + n2\n",
    "\n",
    "\n",
    "x = 5\n",
    "y = 3\n",
    "display(greet(\"John\"), add(x, y))\n"
   ]
  },
  {
   "cell_type": "markdown",
   "id": "c72b3df5",
   "metadata": {},
   "source": [
    "1. Між визначеннями функцій додані два порожні рядки.\n",
    "2. Print та return розташовано на окремому рядку.\n",
    "3. Між аргументами функцій (n1, n2) та оператором + додано пропуски.\n",
    "4. Відокремлено операцію присвоєння значення змінним x та y пропусками.\n",
    "5. Додано пропуск навколо оператору , у функції display та add."
   ]
  },
  {
   "cell_type": "markdown",
   "id": "825b0469",
   "metadata": {},
   "source": [
    "Завдання 2."
   ]
  },
  {
   "cell_type": "code",
   "execution_count": 2,
   "id": "2f738772",
   "metadata": {
    "ExecuteTime": {
     "end_time": "2023-08-27T09:59:27.633855Z",
     "start_time": "2023-08-27T09:59:27.613402Z"
    }
   },
   "outputs": [
    {
     "name": "stdout",
     "output_type": "stream",
     "text": [
      "Area: 78.53981633974483 Circumference: 31.41592653589793\n"
     ]
    }
   ],
   "source": [
    "from math import *\n",
    "\n",
    "\n",
    "def calc_area(r):\n",
    "    return pi * r ** 2\n",
    "\n",
    "\n",
    "def calc_circumference(r):\n",
    "    return 2 * pi * r\n",
    "\n",
    "\n",
    "radius  =5\n",
    "print(\"Area:\", calc_area(radius), \"Circumference:\", calc_circumference(radius))\n"
   ]
  },
  {
   "cell_type": "markdown",
   "id": "1711a655",
   "metadata": {},
   "source": [
    "1. Між імпортом та визначенням функції додані порожні рядки.\n",
    "2. Return розташовано на окремому рядку.\n",
    "3. Між операторами * та **, = додано пропуски\n",
    "4. Додано пропуск навколо оператору , у функції print\n",
    "5. Функції переіменовані згідно з pep8 (слова розділені нижніми підкресленнями, всі літери маленькі)"
   ]
  },
  {
   "cell_type": "markdown",
   "id": "162e40b6",
   "metadata": {},
   "source": [
    "Завдання 3."
   ]
  },
  {
   "cell_type": "code",
   "execution_count": 3,
   "id": "42a8c277",
   "metadata": {
    "ExecuteTime": {
     "end_time": "2023-08-27T09:59:27.650023Z",
     "start_time": "2023-08-27T09:59:27.637366Z"
    }
   },
   "outputs": [],
   "source": [
    "class Animal:\n",
    "    pass\n",
    "\n",
    "\n",
    "class Dog(Animal):     \n",
    "    def __init__(self, name):\n",
    "        self.name = name\n",
    "        self.type = 'Dog'\n",
    "        "
   ]
  },
  {
   "cell_type": "markdown",
   "id": "9c5e3d21",
   "metadata": {},
   "source": [
    "1. Назви класів animal та dog було змінено на Animal та Dog з великої літери.\n",
    "2. Pass розташовано на окремому рядку.\n",
    "3. Відокремлено операцію присвоєння значення змінним self.name та self.type пропусками.\n",
    "4. Додані два порожні рядки між визначеням класів."
   ]
  },
  {
   "cell_type": "markdown",
   "id": "1aa57a52",
   "metadata": {},
   "source": [
    "Завдання 4."
   ]
  },
  {
   "cell_type": "code",
   "execution_count": 4,
   "id": "c272ec19",
   "metadata": {
    "ExecuteTime": {
     "end_time": "2023-08-27T09:59:27.665445Z",
     "start_time": "2023-08-27T09:59:27.656037Z"
    }
   },
   "outputs": [
    {
     "name": "stdout",
     "output_type": "stream",
     "text": [
      "1\n",
      "2\n",
      "3\n",
      "4\n",
      "5\n"
     ]
    }
   ],
   "source": [
    "list = [1, 2, 3, 4, 5]\n",
    "for i in range(len(list)):\n",
    "    print(list[i])\n",
    "    "
   ]
  },
  {
   "cell_type": "markdown",
   "id": "9328c604",
   "metadata": {},
   "source": [
    "1. Додано пробіли навколо операторів = та ,.\n",
    "2. Print розташовано на окремому рядку."
   ]
  },
  {
   "cell_type": "markdown",
   "id": "fe52292d",
   "metadata": {},
   "source": [
    "5.У вас є DataFrame df, що представляє результати тестів студентів з математики, англійської мови та історії. Поточний код обчислює середній бал для кожного студента шляхом ітерації за рядками DataFrame за допомогою iterrows().\n",
    "\n",
    "Ваше завдання полягає в тому, щоб змінити код так, аби уникнути використання iterrows() і замість цього застосувати більш ефективне та читабельне рішення відповідно до правил, озвучених у лекції. Рефакторинг треба зробити лише частині, де рахуються середні, імпорт і визначення датафрейму лишаємо без змін."
   ]
  },
  {
   "cell_type": "code",
   "execution_count": 5,
   "id": "34800e91",
   "metadata": {
    "ExecuteTime": {
     "end_time": "2023-08-27T09:59:30.107299Z",
     "start_time": "2023-08-27T09:59:27.670046Z"
    }
   },
   "outputs": [],
   "source": [
    "import numpy as np\n",
    "import pandas as pd\n",
    "\n",
    "df = pd.DataFrame({\n",
    "    'student': ['Alice', 'Bob', 'Charlie', 'David'],\n",
    "    'math_score': [89, 94, 77, 85],\n",
    "    'english_score': [92, 88, 79, 85],\n",
    "    'history_score': [84, 92, 81, 89]\n",
    "})"
   ]
  },
  {
   "cell_type": "code",
   "execution_count": 6,
   "id": "24779ce7",
   "metadata": {
    "ExecuteTime": {
     "end_time": "2023-08-27T09:59:30.138909Z",
     "start_time": "2023-08-27T09:59:30.114326Z"
    }
   },
   "outputs": [],
   "source": [
    "df['average_score'] = np.mean(df[['math_score', 'english_score', 'history_score']].values, axis=1)"
   ]
  },
  {
   "cell_type": "code",
   "execution_count": 7,
   "id": "0154dc16",
   "metadata": {
    "ExecuteTime": {
     "end_time": "2023-08-27T09:59:30.190705Z",
     "start_time": "2023-08-27T09:59:30.145517Z"
    }
   },
   "outputs": [
    {
     "data": {
      "text/html": [
       "<div>\n",
       "<style scoped>\n",
       "    .dataframe tbody tr th:only-of-type {\n",
       "        vertical-align: middle;\n",
       "    }\n",
       "\n",
       "    .dataframe tbody tr th {\n",
       "        vertical-align: top;\n",
       "    }\n",
       "\n",
       "    .dataframe thead th {\n",
       "        text-align: right;\n",
       "    }\n",
       "</style>\n",
       "<table border=\"1\" class=\"dataframe\">\n",
       "  <thead>\n",
       "    <tr style=\"text-align: right;\">\n",
       "      <th></th>\n",
       "      <th>student</th>\n",
       "      <th>math_score</th>\n",
       "      <th>english_score</th>\n",
       "      <th>history_score</th>\n",
       "      <th>average_score</th>\n",
       "    </tr>\n",
       "  </thead>\n",
       "  <tbody>\n",
       "    <tr>\n",
       "      <th>0</th>\n",
       "      <td>Alice</td>\n",
       "      <td>89</td>\n",
       "      <td>92</td>\n",
       "      <td>84</td>\n",
       "      <td>88.333333</td>\n",
       "    </tr>\n",
       "    <tr>\n",
       "      <th>1</th>\n",
       "      <td>Bob</td>\n",
       "      <td>94</td>\n",
       "      <td>88</td>\n",
       "      <td>92</td>\n",
       "      <td>91.333333</td>\n",
       "    </tr>\n",
       "    <tr>\n",
       "      <th>2</th>\n",
       "      <td>Charlie</td>\n",
       "      <td>77</td>\n",
       "      <td>79</td>\n",
       "      <td>81</td>\n",
       "      <td>79.000000</td>\n",
       "    </tr>\n",
       "    <tr>\n",
       "      <th>3</th>\n",
       "      <td>David</td>\n",
       "      <td>85</td>\n",
       "      <td>85</td>\n",
       "      <td>89</td>\n",
       "      <td>86.333333</td>\n",
       "    </tr>\n",
       "  </tbody>\n",
       "</table>\n",
       "</div>"
      ],
      "text/plain": [
       "   student  math_score  english_score  history_score  average_score\n",
       "0    Alice          89             92             84      88.333333\n",
       "1      Bob          94             88             92      91.333333\n",
       "2  Charlie          77             79             81      79.000000\n",
       "3    David          85             85             89      86.333333"
      ]
     },
     "execution_count": 7,
     "metadata": {},
     "output_type": "execute_result"
    }
   ],
   "source": [
    "df"
   ]
  },
  {
   "cell_type": "markdown",
   "id": "ea2c1216",
   "metadata": {},
   "source": [
    "6.У Вас є великий DataFrame df, що представляє транзакції продажу в магазині. Цей DataFrame містить понад 1 мільйон рядків і кілька стовпців, зокрема «product_name», «product_category», «product_price» і «transaction_date».\n",
    "\n",
    "І «product_name», і «product_category» є рядками, що представляють численні, але обмежені унікальні назви продуктів і категорії відповідно.\n",
    "\n",
    "Напишіть код для ефективного перетворення стовпців «product_name» і «product_category» на категорійний тип для ефективного використання пам’яті.\n",
    "Спробуйте вирішити це завдання, мінімізуючи використання пам'яті та зберігаючи читабельність коду. Крім того, виміряйте використання пам’яті до та після перетворення, щоб продемонструвати підвищення ефективності.\n",
    "\n",
    "Порівняйте кількість памʼяті, яку займає наданий набір даних і новий, створений Вами. В лекції був приклад. В скільки разів менше памʼяті займає новий датафрейм?"
   ]
  },
  {
   "cell_type": "code",
   "execution_count": 8,
   "id": "1aaf37d5",
   "metadata": {
    "ExecuteTime": {
     "end_time": "2023-08-27T09:59:30.950525Z",
     "start_time": "2023-08-27T09:59:30.196923Z"
    }
   },
   "outputs": [
    {
     "data": {
      "text/plain": [
       "32000000"
      ]
     },
     "execution_count": 8,
     "metadata": {},
     "output_type": "execute_result"
    }
   ],
   "source": [
    "import pandas as pd\n",
    "import numpy as np\n",
    "\n",
    "np.random.seed(0)\n",
    "\n",
    "products = ['apple', 'banana', 'cherry', 'dates', 'elderberry']\n",
    "categories = ['fruit', 'fruit', 'fruit', 'fruit', 'fruit']\n",
    "\n",
    "N_ROWS = 10**6\n",
    "df = pd.DataFrame({\n",
    "    'product_name': np.random.choice(products, N_ROWS),\n",
    "    'product_category': np.random.choice(categories, N_ROWS),\n",
    "    'product_price': np.random.uniform(1, 10, N_ROWS),\n",
    "    'transaction_date': pd.date_range(start='1/1/2000', periods=N_ROWS, freq='h')\n",
    "})\n",
    "df.memory_usage(index=False).sum()\n"
   ]
  },
  {
   "cell_type": "code",
   "execution_count": 9,
   "id": "9d06e79c",
   "metadata": {
    "ExecuteTime": {
     "end_time": "2023-08-27T09:59:31.506454Z",
     "start_time": "2023-08-27T09:59:30.956835Z"
    }
   },
   "outputs": [
    {
     "data": {
      "text/plain": [
       "18000328"
      ]
     },
     "execution_count": 9,
     "metadata": {},
     "output_type": "execute_result"
    }
   ],
   "source": [
    "df['product_name'] = pd.Categorical(df['product_name'])\n",
    "df['product_category'] = pd.Categorical(df['product_category'])\n",
    "\n",
    "df.memory_usage(index=False).sum()\n"
   ]
  },
  {
   "cell_type": "code",
   "execution_count": 10,
   "id": "6454a185",
   "metadata": {
    "ExecuteTime": {
     "end_time": "2023-08-27T09:59:31.542284Z",
     "start_time": "2023-08-27T09:59:31.515176Z"
    }
   },
   "outputs": [
    {
     "name": "stdout",
     "output_type": "stream",
     "text": [
      "Маємо зниження витрат памʼяті на 43.75% !\n"
     ]
    }
   ],
   "source": [
    "print(f\"Маємо зниження витрат памʼяті на {round((1-18000328/32000000)*100,2)}% !\")\n"
   ]
  },
  {
   "cell_type": "markdown",
   "id": "6ff8c83c",
   "metadata": {},
   "source": [
    "7.В цьому завданні кілька пунктів. Треба виконати усі послідовно.   \n",
    "    7.1. Завантажте дані у pandas dataframe з файла `ecommerce_data.csv`. Обовʼязково при завантаженні вкажіть параметр `encoding = 'ISO-8859-1'`, без нього буде помилка.  \n",
    "    7.2. Заповніть пропущені значення в колонці CustomerID на -1 та перетворіть тип цієї колонки на str, адже зараз вона типу float, а це не правильний тип даних для ідентифікатора клієнта.  \n",
    "    7.3. З допомогою бібліотеки sweetviz побудуйте html звіт, який порівнює дані для країни \"Germany\" і країни \"France\". У Вас можуть виникнути багато попереджень (Warning), їх рекомендую вимкнути наступним шматком коду   \n",
    "    \n",
    "   \n",
    "    import warnings\n",
    "\n",
    "    with warnings.catch_warnings(record=True):\n",
    "        # your code\n",
    "    \n",
    "    \n",
    "   7.4.Напишіть 5 відмінностей для двох зазначених країн на основі побудованого звіту, без виконання додаткового аналізу іншими інструментами. "
   ]
  },
  {
   "cell_type": "code",
   "execution_count": 11,
   "id": "00ba1ec8",
   "metadata": {
    "ExecuteTime": {
     "end_time": "2023-08-27T09:59:33.057173Z",
     "start_time": "2023-08-27T09:59:31.548377Z"
    }
   },
   "outputs": [],
   "source": [
    "df = pd.read_csv('data/ecommerce_data.csv', encoding='ISO-8859-1')\n"
   ]
  },
  {
   "cell_type": "code",
   "execution_count": 12,
   "id": "3c9332c9",
   "metadata": {
    "ExecuteTime": {
     "end_time": "2023-08-27T09:59:33.632657Z",
     "start_time": "2023-08-27T09:59:33.057173Z"
    }
   },
   "outputs": [],
   "source": [
    "df['CustomerID'] = df['CustomerID'].fillna(-1).astype(str)"
   ]
  },
  {
   "cell_type": "code",
   "execution_count": 13,
   "id": "aa98b583",
   "metadata": {
    "ExecuteTime": {
     "end_time": "2023-08-27T09:59:33.656639Z",
     "start_time": "2023-08-27T09:59:33.637922Z"
    }
   },
   "outputs": [
    {
     "data": {
      "text/plain": [
       "InvoiceNo       object\n",
       "StockCode       object\n",
       "Description     object\n",
       "Quantity         int64\n",
       "InvoiceDate     object\n",
       "UnitPrice      float64\n",
       "CustomerID      object\n",
       "Country         object\n",
       "dtype: object"
      ]
     },
     "execution_count": 13,
     "metadata": {},
     "output_type": "execute_result"
    }
   ],
   "source": [
    "df.dtypes"
   ]
  },
  {
   "cell_type": "code",
   "execution_count": 14,
   "id": "248763cc",
   "metadata": {
    "ExecuteTime": {
     "end_time": "2023-08-27T09:59:33.697442Z",
     "start_time": "2023-08-27T09:59:33.661171Z"
    }
   },
   "outputs": [
    {
     "data": {
      "text/html": [
       "<div>\n",
       "<style scoped>\n",
       "    .dataframe tbody tr th:only-of-type {\n",
       "        vertical-align: middle;\n",
       "    }\n",
       "\n",
       "    .dataframe tbody tr th {\n",
       "        vertical-align: top;\n",
       "    }\n",
       "\n",
       "    .dataframe thead th {\n",
       "        text-align: right;\n",
       "    }\n",
       "</style>\n",
       "<table border=\"1\" class=\"dataframe\">\n",
       "  <thead>\n",
       "    <tr style=\"text-align: right;\">\n",
       "      <th></th>\n",
       "      <th>InvoiceNo</th>\n",
       "      <th>StockCode</th>\n",
       "      <th>Description</th>\n",
       "      <th>Quantity</th>\n",
       "      <th>InvoiceDate</th>\n",
       "      <th>UnitPrice</th>\n",
       "      <th>CustomerID</th>\n",
       "      <th>Country</th>\n",
       "    </tr>\n",
       "  </thead>\n",
       "  <tbody>\n",
       "    <tr>\n",
       "      <th>0</th>\n",
       "      <td>536365</td>\n",
       "      <td>85123A</td>\n",
       "      <td>WHITE HANGING HEART T-LIGHT HOLDER</td>\n",
       "      <td>6</td>\n",
       "      <td>12/1/2010 8:26</td>\n",
       "      <td>2.55</td>\n",
       "      <td>17850.0</td>\n",
       "      <td>United Kingdom</td>\n",
       "    </tr>\n",
       "    <tr>\n",
       "      <th>1</th>\n",
       "      <td>536365</td>\n",
       "      <td>71053</td>\n",
       "      <td>WHITE METAL LANTERN</td>\n",
       "      <td>6</td>\n",
       "      <td>12/1/2010 8:26</td>\n",
       "      <td>3.39</td>\n",
       "      <td>17850.0</td>\n",
       "      <td>United Kingdom</td>\n",
       "    </tr>\n",
       "    <tr>\n",
       "      <th>2</th>\n",
       "      <td>536365</td>\n",
       "      <td>84406B</td>\n",
       "      <td>CREAM CUPID HEARTS COAT HANGER</td>\n",
       "      <td>8</td>\n",
       "      <td>12/1/2010 8:26</td>\n",
       "      <td>2.75</td>\n",
       "      <td>17850.0</td>\n",
       "      <td>United Kingdom</td>\n",
       "    </tr>\n",
       "    <tr>\n",
       "      <th>3</th>\n",
       "      <td>536365</td>\n",
       "      <td>84029G</td>\n",
       "      <td>KNITTED UNION FLAG HOT WATER BOTTLE</td>\n",
       "      <td>6</td>\n",
       "      <td>12/1/2010 8:26</td>\n",
       "      <td>3.39</td>\n",
       "      <td>17850.0</td>\n",
       "      <td>United Kingdom</td>\n",
       "    </tr>\n",
       "    <tr>\n",
       "      <th>4</th>\n",
       "      <td>536365</td>\n",
       "      <td>84029E</td>\n",
       "      <td>RED WOOLLY HOTTIE WHITE HEART.</td>\n",
       "      <td>6</td>\n",
       "      <td>12/1/2010 8:26</td>\n",
       "      <td>3.39</td>\n",
       "      <td>17850.0</td>\n",
       "      <td>United Kingdom</td>\n",
       "    </tr>\n",
       "    <tr>\n",
       "      <th>...</th>\n",
       "      <td>...</td>\n",
       "      <td>...</td>\n",
       "      <td>...</td>\n",
       "      <td>...</td>\n",
       "      <td>...</td>\n",
       "      <td>...</td>\n",
       "      <td>...</td>\n",
       "      <td>...</td>\n",
       "    </tr>\n",
       "    <tr>\n",
       "      <th>541904</th>\n",
       "      <td>581587</td>\n",
       "      <td>22613</td>\n",
       "      <td>PACK OF 20 SPACEBOY NAPKINS</td>\n",
       "      <td>12</td>\n",
       "      <td>12/9/2011 12:50</td>\n",
       "      <td>0.85</td>\n",
       "      <td>12680.0</td>\n",
       "      <td>France</td>\n",
       "    </tr>\n",
       "    <tr>\n",
       "      <th>541905</th>\n",
       "      <td>581587</td>\n",
       "      <td>22899</td>\n",
       "      <td>CHILDREN'S APRON DOLLY GIRL</td>\n",
       "      <td>6</td>\n",
       "      <td>12/9/2011 12:50</td>\n",
       "      <td>2.10</td>\n",
       "      <td>12680.0</td>\n",
       "      <td>France</td>\n",
       "    </tr>\n",
       "    <tr>\n",
       "      <th>541906</th>\n",
       "      <td>581587</td>\n",
       "      <td>23254</td>\n",
       "      <td>CHILDRENS CUTLERY DOLLY GIRL</td>\n",
       "      <td>4</td>\n",
       "      <td>12/9/2011 12:50</td>\n",
       "      <td>4.15</td>\n",
       "      <td>12680.0</td>\n",
       "      <td>France</td>\n",
       "    </tr>\n",
       "    <tr>\n",
       "      <th>541907</th>\n",
       "      <td>581587</td>\n",
       "      <td>23255</td>\n",
       "      <td>CHILDRENS CUTLERY CIRCUS PARADE</td>\n",
       "      <td>4</td>\n",
       "      <td>12/9/2011 12:50</td>\n",
       "      <td>4.15</td>\n",
       "      <td>12680.0</td>\n",
       "      <td>France</td>\n",
       "    </tr>\n",
       "    <tr>\n",
       "      <th>541908</th>\n",
       "      <td>581587</td>\n",
       "      <td>22138</td>\n",
       "      <td>BAKING SET 9 PIECE RETROSPOT</td>\n",
       "      <td>3</td>\n",
       "      <td>12/9/2011 12:50</td>\n",
       "      <td>4.95</td>\n",
       "      <td>12680.0</td>\n",
       "      <td>France</td>\n",
       "    </tr>\n",
       "  </tbody>\n",
       "</table>\n",
       "<p>541909 rows × 8 columns</p>\n",
       "</div>"
      ],
      "text/plain": [
       "       InvoiceNo StockCode                          Description  Quantity  \\\n",
       "0         536365    85123A   WHITE HANGING HEART T-LIGHT HOLDER         6   \n",
       "1         536365     71053                  WHITE METAL LANTERN         6   \n",
       "2         536365    84406B       CREAM CUPID HEARTS COAT HANGER         8   \n",
       "3         536365    84029G  KNITTED UNION FLAG HOT WATER BOTTLE         6   \n",
       "4         536365    84029E       RED WOOLLY HOTTIE WHITE HEART.         6   \n",
       "...          ...       ...                                  ...       ...   \n",
       "541904    581587     22613          PACK OF 20 SPACEBOY NAPKINS        12   \n",
       "541905    581587     22899         CHILDREN'S APRON DOLLY GIRL          6   \n",
       "541906    581587     23254        CHILDRENS CUTLERY DOLLY GIRL          4   \n",
       "541907    581587     23255      CHILDRENS CUTLERY CIRCUS PARADE         4   \n",
       "541908    581587     22138        BAKING SET 9 PIECE RETROSPOT          3   \n",
       "\n",
       "            InvoiceDate  UnitPrice CustomerID         Country  \n",
       "0        12/1/2010 8:26       2.55    17850.0  United Kingdom  \n",
       "1        12/1/2010 8:26       3.39    17850.0  United Kingdom  \n",
       "2        12/1/2010 8:26       2.75    17850.0  United Kingdom  \n",
       "3        12/1/2010 8:26       3.39    17850.0  United Kingdom  \n",
       "4        12/1/2010 8:26       3.39    17850.0  United Kingdom  \n",
       "...                 ...        ...        ...             ...  \n",
       "541904  12/9/2011 12:50       0.85    12680.0          France  \n",
       "541905  12/9/2011 12:50       2.10    12680.0          France  \n",
       "541906  12/9/2011 12:50       4.15    12680.0          France  \n",
       "541907  12/9/2011 12:50       4.15    12680.0          France  \n",
       "541908  12/9/2011 12:50       4.95    12680.0          France  \n",
       "\n",
       "[541909 rows x 8 columns]"
      ]
     },
     "execution_count": 14,
     "metadata": {},
     "output_type": "execute_result"
    }
   ],
   "source": [
    "df"
   ]
  },
  {
   "cell_type": "code",
   "execution_count": 15,
   "id": "9f61639c",
   "metadata": {
    "ExecuteTime": {
     "end_time": "2023-08-27T09:59:47.820435Z",
     "start_time": "2023-08-27T09:59:33.702686Z"
    },
    "scrolled": true
   },
   "outputs": [
    {
     "name": "stdout",
     "output_type": "stream",
     "text": [
      "Requirement already satisfied: sweetviz in c:\\users\\user\\anaconda3\\lib\\site-packages (2.1.4)\n",
      "Requirement already satisfied: matplotlib>=3.1.3 in c:\\users\\user\\anaconda3\\lib\\site-packages (from sweetviz) (3.7.0)\n",
      "Requirement already satisfied: numpy>=1.16.0 in c:\\users\\user\\anaconda3\\lib\\site-packages (from sweetviz) (1.23.5)\n",
      "Requirement already satisfied: scipy>=1.3.2 in c:\\users\\user\\anaconda3\\lib\\site-packages (from sweetviz) (1.10.0)\n",
      "Requirement already satisfied: importlib-resources>=1.2.0 in c:\\users\\user\\anaconda3\\lib\\site-packages (from sweetviz) (6.0.1)\n",
      "Requirement already satisfied: tqdm>=4.43.0 in c:\\users\\user\\anaconda3\\lib\\site-packages (from sweetviz) (4.64.1)\n",
      "Requirement already satisfied: jinja2>=2.11.1 in c:\\users\\user\\anaconda3\\lib\\site-packages (from sweetviz) (3.1.2)\n",
      "Requirement already satisfied: pandas!=1.0.0,!=1.0.1,!=1.0.2,>=0.25.3 in c:\\users\\user\\anaconda3\\lib\\site-packages (from sweetviz) (1.5.3)\n",
      "Requirement already satisfied: MarkupSafe>=2.0 in c:\\users\\user\\anaconda3\\lib\\site-packages (from jinja2>=2.11.1->sweetviz) (2.1.1)\n",
      "Requirement already satisfied: packaging>=20.0 in c:\\users\\user\\anaconda3\\lib\\site-packages (from matplotlib>=3.1.3->sweetviz) (22.0)\n",
      "Requirement already satisfied: python-dateutil>=2.7 in c:\\users\\user\\anaconda3\\lib\\site-packages (from matplotlib>=3.1.3->sweetviz) (2.8.2)\n",
      "Requirement already satisfied: pillow>=6.2.0 in c:\\users\\user\\anaconda3\\lib\\site-packages (from matplotlib>=3.1.3->sweetviz) (9.4.0)\n",
      "Requirement already satisfied: fonttools>=4.22.0 in c:\\users\\user\\anaconda3\\lib\\site-packages (from matplotlib>=3.1.3->sweetviz) (4.25.0)\n",
      "Requirement already satisfied: contourpy>=1.0.1 in c:\\users\\user\\anaconda3\\lib\\site-packages (from matplotlib>=3.1.3->sweetviz) (1.0.5)\n",
      "Requirement already satisfied: cycler>=0.10 in c:\\users\\user\\anaconda3\\lib\\site-packages (from matplotlib>=3.1.3->sweetviz) (0.11.0)\n",
      "Requirement already satisfied: pyparsing>=2.3.1 in c:\\users\\user\\anaconda3\\lib\\site-packages (from matplotlib>=3.1.3->sweetviz) (3.0.9)\n",
      "Requirement already satisfied: kiwisolver>=1.0.1 in c:\\users\\user\\anaconda3\\lib\\site-packages (from matplotlib>=3.1.3->sweetviz) (1.4.4)\n",
      "Requirement already satisfied: pytz>=2020.1 in c:\\users\\user\\anaconda3\\lib\\site-packages (from pandas!=1.0.0,!=1.0.1,!=1.0.2,>=0.25.3->sweetviz) (2022.7)\n",
      "Requirement already satisfied: colorama in c:\\users\\user\\anaconda3\\lib\\site-packages (from tqdm>=4.43.0->sweetviz) (0.4.6)\n",
      "Requirement already satisfied: six>=1.5 in c:\\users\\user\\anaconda3\\lib\\site-packages (from python-dateutil>=2.7->matplotlib>=3.1.3->sweetviz) (1.16.0)\n"
     ]
    }
   ],
   "source": [
    "! pip install sweetviz"
   ]
  },
  {
   "cell_type": "code",
   "execution_count": 16,
   "id": "c7fa181f",
   "metadata": {
    "ExecuteTime": {
     "end_time": "2023-08-27T10:00:02.168846Z",
     "start_time": "2023-08-27T09:59:47.835247Z"
    }
   },
   "outputs": [
    {
     "data": {
      "application/vnd.jupyter.widget-view+json": {
       "model_id": "16c91a9358724a79b0a8ebeb70c0b2f3",
       "version_major": 2,
       "version_minor": 0
      },
      "text/plain": [
       "                                             |                                             | [  0%]   00:00 ->…"
      ]
     },
     "metadata": {},
     "output_type": "display_data"
    },
    {
     "name": "stdout",
     "output_type": "stream",
     "text": [
      "Report sweet_compare_report.html was generated! NOTEBOOK/COLAB USERS: the web browser MAY not pop up, regardless, the report IS saved in your notebook/colab files.\n"
     ]
    }
   ],
   "source": [
    "import sweetviz as sv\n",
    "import warnings\n",
    "\n",
    "with warnings.catch_warnings(record=True):\n",
    "    compare_report = sv.compare(df[df['Country'] == 'France'], df[df['Country'] == 'Germany'])\n",
    "    compare_report.show_html('sweet_compare_report.html')"
   ]
  },
  {
   "cell_type": "markdown",
   "id": "cb00f0d0",
   "metadata": {},
   "source": [
    "1. У Німеччині (9495) кількість покупок більша за Францію (8557).\n",
    "2. Прибуток Франції (43032) більший за прибуток Німеччини (37666).\n",
    "3. Найчастіше купують товари у кількості 12 шт в обидвох країнах.\n",
    "4. Найпопулярніший товар postage (4%) в обидвох країнах.\n",
    "5. Середня вартість товарів у Франції (5) вища, ніж у Німеччині (4), також Франція має вищий діапазон та варіабельність цін на товари."
   ]
  },
  {
   "cell_type": "markdown",
   "id": "dab83a20",
   "metadata": {
    "ExecuteTime": {
     "end_time": "2023-07-30T18:55:42.650457Z",
     "start_time": "2023-07-30T18:55:42.635729Z"
    }
   },
   "source": [
    "8.З допомогою ChatGPT виявіть, чи є та які помилки в наступному коді.  \n",
    "Попросіть після цього переписати код із дотриманням PEP8. Проаналізуйте результат. Чи справді ChatGPT виправив всі стилістичні помилки? Якщо ні, напишіть йому ще кілька запитів, аби код відповідав вимогам PEP8.  \n",
    "Вставте фінальну версію коду з чату у ноутбук та запустіть на заданому списку. Має вертатись 50.  \n",
    "Напишіть, які промпти (інструкції) при зверненні до ChatGPT ви застосували та додайте скріншот(-и) з промптами та відповідями чата.  \n",
    "Якщо зробили висновки при виконанні цього завдання, то діліться також :)\n",
    "\n",
    "**ЯК ВСТАВИТИ СКРІНШОТ в Jupyter Notebook** :\n",
    "1. Створіть нову Markdown клітинку\n",
    "2. В новоствореній клітинці обираєте в меню Jupyter Notebook Edit -> Insert Image\n",
    "3. Обираєте картинку \n",
    "4. В клітинці має зʼявитись текст, який містить картинку. Запустіть клітинку.\n",
    "\n",
    "Або можна просто перетягнути картинку в Markdown клітинку."
   ]
  },
  {
   "cell_type": "code",
   "execution_count": 17,
   "id": "70a94edc",
   "metadata": {
    "ExecuteTime": {
     "end_time": "2023-08-27T10:00:02.195986Z",
     "start_time": "2023-08-27T10:00:02.174464Z"
    }
   },
   "outputs": [],
   "source": [
    "#Bad_code\n",
    "def CalculateVariance(nl):\n",
    "    sum_list = 0\n",
    "    for n in nl:\n",
    "        sum_list = sum_list + n\n",
    "    mean = sum_list / len(nl)\n",
    "    sum_squares = 0\n",
    "    for n in nl:\n",
    "        sum_squares = sum_squares + n**2\n",
    "    mean_squares = sum_squares / len(nl)\n",
    "    return mean_squares"
   ]
  },
  {
   "cell_type": "code",
   "execution_count": 18,
   "id": "dbcec381",
   "metadata": {
    "ExecuteTime": {
     "end_time": "2023-08-27T10:00:02.220154Z",
     "start_time": "2023-08-27T10:00:02.203262Z"
    }
   },
   "outputs": [],
   "source": [
    "import numpy as np\n",
    "\n",
    "\n",
    "def calculate_variance(nl):\n",
    "    mean = np.mean(nl)\n",
    "    mean_squares = np.mean(np.square(nl))\n",
    "    variance = mean_squares - mean ** 2\n",
    "    return variance\n"
   ]
  },
  {
   "cell_type": "code",
   "execution_count": 19,
   "id": "edafa7ad",
   "metadata": {
    "ExecuteTime": {
     "end_time": "2023-08-27T10:00:02.246572Z",
     "start_time": "2023-08-27T10:00:02.229664Z"
    }
   },
   "outputs": [],
   "source": [
    "input_list = [75, 80, 85, 90, 95]"
   ]
  },
  {
   "cell_type": "code",
   "execution_count": 20,
   "id": "a2385da2",
   "metadata": {
    "ExecuteTime": {
     "end_time": "2023-08-27T10:00:02.279286Z",
     "start_time": "2023-08-27T10:00:02.253546Z"
    }
   },
   "outputs": [
    {
     "name": "stdout",
     "output_type": "stream",
     "text": [
      "50.0\n"
     ]
    }
   ],
   "source": [
    "result = calculate_variance(input_list)\n",
    "print(result)"
   ]
  },
  {
   "cell_type": "markdown",
   "id": "854c3e43",
   "metadata": {},
   "source": [
    "Перший запит: \"Find mistakes in my code and correst it, also ensure my code adheres to PEP 8\"\n",
    "\n",
    "Changes made:\n",
    "1. Function names should be in lowercase with words separated by underscores (snake_case), so I changed CalculateVariance to calculate_variance.\n",
    "2. Used the shorthand += operator for adding values to variables, making the code more concise.\n",
    "3. Calculated the variance correctly as mean_squares - mean ** 2, since variance is the average of the squared differences from the mean.\n",
    "4. This code should be both correct and adhere to PEP 8 style guidelines.\n"
   ]
  },
  {
   "attachments": {
    "image.png": {
     "image/png": "[encoded data removed]"
    }
   },
   "cell_type": "markdown",
   "id": "861d4585",
   "metadata": {},
   "source": [
    "![image.png](attachment:image.png)"
   ]
  },
  {
   "cell_type": "markdown",
   "id": "960a04e9",
   "metadata": {},
   "source": [
    "В цілому, вийшло непогано. Проте, можна краще, викораставши NumPy.\n",
    "\n",
    "Тому, другий запит: 'Please change your code using numpy'"
   ]
  },
  {
   "attachments": {
    "image.png": {
     "image/png": "[encoded data removed]"
    }
   },
   "cell_type": "markdown",
   "id": "2f8ddd4c",
   "metadata": {},
   "source": [
    "![image.png](attachment:image.png)"
   ]
  },
  {
   "cell_type": "code",
   "execution_count": null,
   "id": "1e78c139",
   "metadata": {},
   "outputs": [],
   "source": []
  }
 ],
 "metadata": {
  "kernelspec": {
   "display_name": "Python 3 (ipykernel)",
   "language": "python",
   "name": "python3"
  },
  "language_info": {
   "codemirror_mode": {
    "name": "ipython",
    "version": 3
   },
   "file_extension": ".py",
   "mimetype": "text/x-python",
   "name": "python",
   "nbconvert_exporter": "python",
   "pygments_lexer": "ipython3",
   "version": "3.10.9"
  },
  "toc": {
   "base_numbering": 1,
   "nav_menu": {},
   "number_sections": true,
   "sideBar": true,
   "skip_h1_title": false,
   "title_cell": "Table of Contents",
   "title_sidebar": "Contents",
   "toc_cell": false,
   "toc_position": {},
   "toc_section_display": true,
   "toc_window_display": false
  }
 },
 "nbformat": 4,
 "nbformat_minor": 5
}
