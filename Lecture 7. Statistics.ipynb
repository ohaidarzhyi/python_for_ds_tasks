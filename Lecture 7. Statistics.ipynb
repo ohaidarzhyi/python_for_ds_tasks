{
 "cells": [
  {
   "cell_type": "code",
   "execution_count": null,
   "id": "f6e78310",
   "metadata": {
    "ExecuteTime": {
     "end_time": "2022-12-06T18:26:16.073936Z",
     "start_time": "2022-12-06T18:26:07.709212Z"
    }
   },
   "outputs": [],
   "source": [
    "!pip install statsmodels"
   ]
  },
  {
   "cell_type": "code",
   "execution_count": null,
   "id": "f07f93e5",
   "metadata": {
    "ExecuteTime": {
     "end_time": "2022-12-07T21:47:07.760223Z",
     "start_time": "2022-12-07T21:47:07.681208Z"
    }
   },
   "outputs": [],
   "source": [
    "import math\n",
    "import random\n",
    "import re\n",
    "\n",
    "import scipy\n",
    "import matplotlib.pyplot as plt\n",
    "import numpy as np\n",
    "import pandas as pd\n",
    "import statsmodels.api as sm\n",
    "from scipy import stats as st\n",
    "from scipy.stats import norm"
   ]
  },
  {
   "cell_type": "markdown",
   "id": "ef240a28",
   "metadata": {},
   "source": [
    "# Огляд scipy.stats"
   ]
  },
  {
   "cell_type": "code",
   "execution_count": null,
   "id": "a48ed67d",
   "metadata": {
    "ExecuteTime": {
     "end_time": "2022-12-06T19:37:32.051853Z",
     "start_time": "2022-12-06T19:37:32.047531Z"
    }
   },
   "outputs": [],
   "source": [
    "rv = norm()"
   ]
  },
  {
   "cell_type": "code",
   "execution_count": null,
   "id": "ff110a0d",
   "metadata": {
    "ExecuteTime": {
     "end_time": "2022-12-06T19:38:32.679496Z",
     "start_time": "2022-12-06T19:38:32.674829Z"
    }
   },
   "outputs": [],
   "source": [
    "rv"
   ]
  },
  {
   "cell_type": "code",
   "execution_count": null,
   "id": "a76fd216",
   "metadata": {
    "ExecuteTime": {
     "end_time": "2022-12-06T19:38:43.506431Z",
     "start_time": "2022-12-06T19:38:43.503894Z"
    }
   },
   "outputs": [],
   "source": [
    "# dir(rv)"
   ]
  },
  {
   "cell_type": "code",
   "execution_count": null,
   "id": "e401f088",
   "metadata": {
    "ExecuteTime": {
     "end_time": "2022-12-06T19:39:14.123464Z",
     "start_time": "2022-12-06T19:39:14.119713Z"
    }
   },
   "outputs": [],
   "source": [
    "st.rv_continuous"
   ]
  },
  {
   "cell_type": "code",
   "execution_count": null,
   "id": "32ed40b1",
   "metadata": {
    "ExecuteTime": {
     "end_time": "2022-12-06T19:39:48.461637Z",
     "start_time": "2022-12-06T19:39:48.453749Z"
    }
   },
   "outputs": [],
   "source": [
    "dist_continu = [d for d in dir(st) if\n",
    "                isinstance(getattr(st, d), st.rv_continuous)]\n",
    "dist_discrete = [d for d in dir(st) if\n",
    "                 isinstance(getattr(st, d), st.rv_discrete)]\n",
    "print('Кількість неперервних розподілів: %d' % len(dist_continu))\n",
    "print('Кількість дискретних розподілів:   %d' % len(dist_discrete))"
   ]
  },
  {
   "cell_type": "code",
   "execution_count": null,
   "id": "0e9fd340",
   "metadata": {
    "ExecuteTime": {
     "end_time": "2022-12-06T19:41:23.246050Z",
     "start_time": "2022-12-06T19:41:23.241036Z"
    }
   },
   "outputs": [],
   "source": [
    "norm.cdf(0)"
   ]
  },
  {
   "cell_type": "markdown",
   "id": "91c256ca",
   "metadata": {},
   "source": [
    "Можемо вивести для декількох точок."
   ]
  },
  {
   "cell_type": "code",
   "execution_count": null,
   "id": "f1d2b73e",
   "metadata": {
    "ExecuteTime": {
     "end_time": "2022-12-06T19:41:35.872883Z",
     "start_time": "2022-12-06T19:41:35.866935Z"
    }
   },
   "outputs": [],
   "source": [
    "norm.cdf([-1., 0, 1])"
   ]
  },
  {
   "cell_type": "code",
   "execution_count": null,
   "id": "9387eddd",
   "metadata": {
    "ExecuteTime": {
     "end_time": "2022-12-06T19:43:42.835906Z",
     "start_time": "2022-12-06T19:43:42.828661Z"
    }
   },
   "outputs": [],
   "source": [
    "norm.cdf(2, 0, 1)"
   ]
  },
  {
   "cell_type": "markdown",
   "id": "7c2bda65",
   "metadata": {},
   "source": [
    "Якщо хочемо отримати CDF і PDF певного розподілу:"
   ]
  },
  {
   "cell_type": "code",
   "execution_count": null,
   "id": "c28e6e8d",
   "metadata": {
    "ExecuteTime": {
     "end_time": "2022-12-06T19:42:18.801858Z",
     "start_time": "2022-12-06T19:42:18.575403Z"
    }
   },
   "outputs": [],
   "source": [
    "x = np.linspace(-5, 5, 5000)\n",
    "mu = 0\n",
    "sigma = 1\n",
    "\n",
    "y_pdf = norm.pdf(x, mu, sigma)  # pdf нормального розподілу\n",
    "y_cdf = norm.cdf(x, mu, sigma)  # cdf нормального розподілу\n",
    "\n",
    "plt.plot(x, y_pdf, label='pdf')\n",
    "plt.plot(x, y_cdf, label='cdf')\n",
    "plt.legend();"
   ]
  },
  {
   "cell_type": "markdown",
   "id": "fb5442af",
   "metadata": {},
   "source": [
    "Можемо дослідити, як параметри розподілу впливають на його вигляд:"
   ]
  },
  {
   "cell_type": "code",
   "execution_count": null,
   "id": "b69847c4",
   "metadata": {
    "ExecuteTime": {
     "end_time": "2022-12-06T19:44:33.486515Z",
     "start_time": "2022-12-06T19:44:33.483014Z"
    }
   },
   "outputs": [],
   "source": [
    "def plot_normal(x_range, mu=0, sigma=1, cdf=False, **kwargs):\n",
    "    x = x_range\n",
    "    if cdf:\n",
    "        y = norm.cdf(x, mu, sigma)\n",
    "    else:\n",
    "        y = norm.pdf(x, mu, sigma)\n",
    "    plt.plot(x, y, **kwargs)"
   ]
  },
  {
   "cell_type": "code",
   "execution_count": null,
   "id": "dcf39fae",
   "metadata": {
    "ExecuteTime": {
     "end_time": "2022-12-06T19:44:44.065521Z",
     "start_time": "2022-12-06T19:44:43.894704Z"
    }
   },
   "outputs": [],
   "source": [
    "plot_normal(x, -2, 1, color='red', lw=2, ls='-', alpha=0.5)\n",
    "plot_normal(x, 2, 1.2, color='blue', lw=2, ls='-', alpha=0.5)\n",
    "plot_normal(x, 0, 0.8, color='green', lw=2, ls='-', alpha=0.5);"
   ]
  },
  {
   "cell_type": "markdown",
   "id": "c4ebd0cf",
   "metadata": {},
   "source": [
    "Створимо та проведемо дослідження вибірки із заданого розподілу:"
   ]
  },
  {
   "cell_type": "code",
   "execution_count": null,
   "id": "9dd0b238",
   "metadata": {
    "ExecuteTime": {
     "end_time": "2022-12-06T19:54:23.872780Z",
     "start_time": "2022-12-06T19:54:23.865928Z"
    }
   },
   "outputs": [],
   "source": [
    "from scipy.stats import beta\n",
    "\n",
    "# для відтворюваності\n",
    "np.random.seed(seed=233423)\n",
    "\n",
    "a, b = 2, 6\n",
    "\n",
    "x = beta.rvs(a, b, size=1000)"
   ]
  },
  {
   "cell_type": "code",
   "execution_count": null,
   "id": "ac3999bb",
   "metadata": {
    "ExecuteTime": {
     "end_time": "2022-12-06T19:55:29.226764Z",
     "start_time": "2022-12-06T19:55:29.222133Z"
    }
   },
   "outputs": [],
   "source": [
    "x.mean()"
   ]
  },
  {
   "cell_type": "code",
   "execution_count": null,
   "id": "1b592a19",
   "metadata": {
    "ExecuteTime": {
     "end_time": "2022-12-06T19:55:32.965714Z",
     "start_time": "2022-12-06T19:55:32.807545Z"
    }
   },
   "outputs": [],
   "source": [
    "fig, ax = plt.subplots(1, 1)\n",
    "ax.hist(x, density=True, alpha=0.2)\n",
    "plt.show()"
   ]
  },
  {
   "cell_type": "markdown",
   "id": "14668d17",
   "metadata": {},
   "source": [
    "Виведемо описові статистики розподілу:"
   ]
  },
  {
   "cell_type": "code",
   "execution_count": null,
   "id": "68c6830a",
   "metadata": {
    "ExecuteTime": {
     "end_time": "2022-12-06T19:56:50.438427Z",
     "start_time": "2022-12-06T19:56:50.430033Z"
    }
   },
   "outputs": [],
   "source": [
    "m = beta.mean(a,b)\n",
    "v = beta.var(a,b)\n",
    "shp_a = beta.a\n",
    "shp_b = beta.b\n",
    "median = beta.median(a,b)\n",
    "\n",
    "rv_stats = {\"mean\": m, \"var\": v, \"shape a\": shp_a, \"shape b\": shp_b, \"median\": median}\n",
    "_ = [print(k,\":\",f'{v:.3f}') for k,v in rv_stats.items()]"
   ]
  },
  {
   "cell_type": "markdown",
   "id": "1738ebdb",
   "metadata": {},
   "source": [
    "Перші 4 моменти (про [моменти](https://www.analyticsvidhya.com/blog/2022/01/moments-a-must-known-statistical-concept-for-data-science/#:~:text=%E2%80%93%20Standardized%20Moments-,What%20is%20the%20Moment%20in%20Statistics%3F,as%20the%20X's%20expected%20values.)) :"
   ]
  },
  {
   "cell_type": "code",
   "execution_count": null,
   "id": "8378f01b",
   "metadata": {
    "ExecuteTime": {
     "end_time": "2022-12-06T19:57:46.296486Z",
     "start_time": "2022-12-06T19:57:46.290427Z"
    }
   },
   "outputs": [],
   "source": [
    "moments_values = beta.stats(a,b, moments=\"mvsk\")\n",
    "\n",
    "moments_names = [\"mean\", \"var\", \"skew\", \"kurt\"]\n",
    "moments = dict(zip(moments_names, moments_values))\n",
    "_ = [print(k,\":\",f'{v:.3f}') for k,v in moments.items()]"
   ]
  },
  {
   "cell_type": "markdown",
   "id": "3ca4b806",
   "metadata": {},
   "source": [
    "# Узгодження розподілу з даними"
   ]
  },
  {
   "cell_type": "markdown",
   "id": "5c0bd067",
   "metadata": {},
   "source": [
    "Припустимо, ми хочемо зʼясувати, за яким законом розподілу розподілені наші дані. Для цього можемо спробувати зафітити кілька різних розподілів і подивитися, який найкраще описує наші дані."
   ]
  },
  {
   "cell_type": "code",
   "execution_count": null,
   "id": "553b35cc",
   "metadata": {
    "ExecuteTime": {
     "end_time": "2022-12-06T20:51:26.011255Z",
     "start_time": "2022-12-06T20:51:25.989044Z"
    }
   },
   "outputs": [],
   "source": [
    "def doane_formula(data):\n",
    "    \"\"\"\n",
    "    Формула для пошуку оптимальної кількості бінів для візуалізації та аналізу даних:\n",
    "    https://en.wikipedia.org/wiki/Histogram#Doane's_formula\n",
    "    \"\"\"\n",
    "    N = len(data)\n",
    "    skewness = st.skew(data)\n",
    "    sigma_g1 = math.sqrt((6*(N-2))/((N+1)*(N+3)))\n",
    "    num_bins = 1 + math.log(N,2) + math.log(1+abs(skewness)/sigma_g1,2)\n",
    "    num_bins = round(num_bins)\n",
    "    return num_bins\n",
    "\n",
    "def plot_histogram(data, results, n):\n",
    "    # N перших розподілів у ранжуванні\n",
    "    N_DISTRIBUTIONS = {k: results[k] for k in list(results)[:n]}\n",
    "\n",
    "    # Гістограма даних\n",
    "    plt.figure(figsize=(10, 5))\n",
    "    plt.hist(data, density=True, ec='white', color=(63/235, 149/235, 170/235))\n",
    "    plt.title('HISTOGRAM')\n",
    "    plt.xlabel('Values')\n",
    "    plt.ylabel('Frequencies')\n",
    "    \n",
    "    # Розподіл\n",
    "    for distribution, result in N_DISTRIBUTIONS.items():\n",
    "        sse = result[0]\n",
    "        arg = result[1]\n",
    "        loc = result[2]\n",
    "        scale = result[3]\n",
    "        x_plot = np.linspace(min(data), max(data), 1000)\n",
    "        y_plot = distribution.pdf(x_plot, loc=loc, scale=scale, *arg)\n",
    "        dist_name = re.search(r'_continuous_distns\\.(.*?) object', str(distribution)).group(1)\n",
    "        plt.plot(x_plot, y_plot, label=dist_name + \": \" + str(sse)[0:6], color=(random.uniform(0, 1), random.uniform(0, 1), random.uniform(0, 1)))\n",
    "    \n",
    "    plt.legend(title='DISTRIBUTIONS', bbox_to_anchor=(1.05, 1), loc='upper left')\n",
    "    plt.show()\n",
    "\n",
    "def fit_data(data):\n",
    "    ALL_DISTRIBUTIONS = [d for d in dir(st) if\n",
    "                isinstance(getattr(st, d), st.rv_continuous)]\n",
    "    \n",
    "    MY_DISTRIBUTIONS = [st.beta, st.expon, st.norm, \n",
    "                        st.uniform, st.johnsonsb, st.gennorm,\n",
    "                        st.gausshyper]\n",
    "\n",
    "    # Шукаємо оптимальну кількість бінів у гістограмі за формулою Доані\n",
    "    num_bins = doane_formula(data)\n",
    "    frequencies, bin_edges = np.histogram(data, num_bins, density=True)\n",
    "    central_values = [(bin_edges[i] + bin_edges[i+1])/2 for i in range(len(bin_edges)-1)]\n",
    "\n",
    "    results = {}\n",
    "    for distribution in MY_DISTRIBUTIONS:\n",
    "        # Отримуємо параметри розподілу\n",
    "        params = distribution.fit(data)\n",
    "        \n",
    "        # Виділяємо потрібні нам частини параметрів\n",
    "        arg = params[:-2]\n",
    "        loc = params[-2]\n",
    "        scale = params[-1]\n",
    "    \n",
    "        # Розраховуємо підігнаний PDF і похибку підгонки розподілу\n",
    "        pdf_values = [distribution.pdf(c, loc=loc, scale=scale, *arg) for c in central_values]\n",
    "        \n",
    "        # Рахуємо суму квадратів помилки\n",
    "        sse = np.sum(np.power(frequencies - pdf_values, 2.0))\n",
    "        \n",
    "        # Збираємо результати\n",
    "        results[distribution] = [sse, arg, loc, scale]\n",
    "        \n",
    "    results = {k: results[k] for k in sorted(results, key=results.get)}\n",
    "    return results"
   ]
  },
  {
   "cell_type": "markdown",
   "id": "e7e72d38",
   "metadata": {
    "ExecuteTime": {
     "end_time": "2021-11-18T15:16:57.368857Z",
     "start_time": "2021-11-18T15:16:57.365343Z"
    }
   },
   "source": [
    "Набір даних, який будемо досліджувати в цьому завданні, містить океанографічні та надземні метеорологічні дані, отримані з низки буїв, розташованих по всій екваторіальній частині Тихого океану:\n",
    "https://archive.ics.uci.edu/ml/datasets/El+Nino  \n",
    "\n",
    "Дані зібрано за кілька років, колонки - це місяці. Тому перед аналізом нам треба трансформувати набір даних."
   ]
  },
  {
   "cell_type": "code",
   "execution_count": null,
   "id": "73d4103a",
   "metadata": {
    "ExecuteTime": {
     "end_time": "2022-12-06T20:49:58.095251Z",
     "start_time": "2022-12-06T20:49:58.033399Z"
    }
   },
   "outputs": [],
   "source": [
    "df = sm.datasets.elnino.load_pandas().data.set_index('YEAR')"
   ]
  },
  {
   "cell_type": "code",
   "execution_count": null,
   "id": "457516a4",
   "metadata": {
    "ExecuteTime": {
     "end_time": "2022-12-06T18:35:27.391413Z",
     "start_time": "2022-12-06T18:35:27.351702Z"
    }
   },
   "outputs": [],
   "source": [
    "df"
   ]
  },
  {
   "cell_type": "code",
   "execution_count": null,
   "id": "69847aea",
   "metadata": {
    "ExecuteTime": {
     "end_time": "2022-12-06T20:51:05.967530Z",
     "start_time": "2022-12-06T20:51:05.962092Z"
    }
   },
   "outputs": [],
   "source": [
    "data = pd.Series(df.values.ravel()) # df.ravel() - вертає плоский масив даних"
   ]
  },
  {
   "cell_type": "code",
   "execution_count": null,
   "id": "e6a065e6",
   "metadata": {
    "ExecuteTime": {
     "end_time": "2022-12-06T20:51:28.837780Z",
     "start_time": "2022-12-06T20:51:28.252649Z"
    }
   },
   "outputs": [],
   "source": [
    "results = fit_data(data)"
   ]
  },
  {
   "cell_type": "code",
   "execution_count": null,
   "id": "76af781f",
   "metadata": {
    "ExecuteTime": {
     "end_time": "2022-12-06T20:51:53.020717Z",
     "start_time": "2022-12-06T20:51:53.016805Z"
    }
   },
   "outputs": [],
   "source": [
    "st.beta"
   ]
  },
  {
   "cell_type": "code",
   "execution_count": null,
   "id": "f51da67b",
   "metadata": {
    "ExecuteTime": {
     "end_time": "2022-12-06T20:54:45.724377Z",
     "start_time": "2022-12-06T20:54:45.370598Z"
    }
   },
   "outputs": [],
   "source": [
    "plot_histogram(data, results, 5)"
   ]
  },
  {
   "cell_type": "markdown",
   "id": "bb40a0b3",
   "metadata": {},
   "source": [
    "# Z-test"
   ]
  },
  {
   "cell_type": "code",
   "execution_count": null,
   "id": "2b0f49d0",
   "metadata": {
    "ExecuteTime": {
     "end_time": "2022-12-07T21:47:37.012834Z",
     "start_time": "2022-12-07T21:47:36.949542Z"
    }
   },
   "outputs": [],
   "source": [
    "from statsmodels.stats.weightstats import ztest  "
   ]
  },
  {
   "cell_type": "markdown",
   "id": "9cdfbc15",
   "metadata": {},
   "source": [
    "## На одній вибірці"
   ]
  },
  {
   "cell_type": "markdown",
   "id": "425bb019",
   "metadata": {
    "ExecuteTime": {
     "end_time": "2021-11-18T22:11:26.527037Z",
     "start_time": "2021-11-18T22:11:26.434988Z"
    }
   },
   "source": [
    "Згенеруємо випадковий масив із 50 чисел, що мають середнє значення 110 і стандартне відхилення 15, аналогічно до даних IQ, які ми припускаємо в задачі."
   ]
  },
  {
   "cell_type": "code",
   "execution_count": null,
   "id": "b17aef70",
   "metadata": {
    "ExecuteTime": {
     "end_time": "2022-12-07T21:48:38.866132Z",
     "start_time": "2022-12-07T21:48:38.808379Z"
    }
   },
   "outputs": [],
   "source": [
    "mean_iq = 110\n",
    "sd_iq = 15 / math.sqrt(50)\n",
    "alpha = 0.05\n",
    "null_mean = 100"
   ]
  },
  {
   "cell_type": "code",
   "execution_count": null,
   "id": "c39b4a39",
   "metadata": {
    "ExecuteTime": {
     "end_time": "2022-12-07T21:50:56.658238Z",
     "start_time": "2022-12-07T21:50:56.654496Z"
    }
   },
   "outputs": [],
   "source": [
    "# генеруємо дані\n",
    "data = np.random.randn(50)*15 + mean_iq"
   ]
  },
  {
   "cell_type": "code",
   "execution_count": null,
   "id": "f37f0fe5",
   "metadata": {
    "ExecuteTime": {
     "end_time": "2022-12-07T21:49:07.182469Z",
     "start_time": "2022-12-07T21:49:07.122486Z"
    }
   },
   "outputs": [],
   "source": [
    "sd_iq"
   ]
  },
  {
   "cell_type": "code",
   "execution_count": null,
   "id": "6ea9b0fe",
   "metadata": {
    "ExecuteTime": {
     "end_time": "2022-12-07T21:50:58.340043Z",
     "start_time": "2022-12-07T21:50:58.333985Z"
    }
   },
   "outputs": [],
   "source": [
    "print('mean=%.2f stdv=%.2f' % (np.mean(data), np.std(data)))\n",
    "  "
   ]
  },
  {
   "cell_type": "code",
   "execution_count": null,
   "id": "6278f27d",
   "metadata": {
    "ExecuteTime": {
     "end_time": "2022-12-07T21:51:00.080524Z",
     "start_time": "2022-12-07T21:51:00.073266Z"
    }
   },
   "outputs": [],
   "source": [
    "data"
   ]
  },
  {
   "cell_type": "markdown",
   "id": "d7fcf34b",
   "metadata": {
    "ExecuteTime": {
     "end_time": "2021-11-18T22:13:57.648731Z",
     "start_time": "2021-11-18T22:13:57.643927Z"
    }
   },
   "source": [
    "Тепер проводимо тест. У цій функції ми передали дані, у параметрі значення ми передали середнє значення в нульовій гіпотезі, в альтернативній гіпотезі ми перевіряємо, чи більше середнє значення"
   ]
  },
  {
   "cell_type": "code",
   "execution_count": null,
   "id": "c0040f5a",
   "metadata": {
    "ExecuteTime": {
     "end_time": "2022-12-07T21:51:03.904071Z",
     "start_time": "2022-12-07T21:51:03.896205Z"
    }
   },
   "outputs": [],
   "source": [
    "ztest_Score, p_value = ztest(data, value = null_mean, alternative='larger')"
   ]
  },
  {
   "cell_type": "code",
   "execution_count": null,
   "id": "0b3b3c77",
   "metadata": {
    "ExecuteTime": {
     "end_time": "2022-12-07T21:51:04.219668Z",
     "start_time": "2022-12-07T21:51:04.211981Z"
    }
   },
   "outputs": [],
   "source": [
    "ztest_Score, p_value"
   ]
  },
  {
   "cell_type": "markdown",
   "id": "bda82122",
   "metadata": {
    "ExecuteTime": {
     "end_time": "2021-11-18T22:14:40.100021Z",
     "start_time": "2021-11-18T22:14:40.094813Z"
    }
   },
   "source": [
    "Функція виводить p_value і z-score, що відповідають цьому значенню, ми порівнюємо p-значення з альфа, якщо воно більше альфа, то ми не приймаємо нульову гіпотезу, інакше ми її відхиляємо."
   ]
  },
  {
   "cell_type": "code",
   "execution_count": null,
   "id": "c662cf02",
   "metadata": {
    "ExecuteTime": {
     "end_time": "2022-12-07T21:52:15.979476Z",
     "start_time": "2022-12-07T21:52:15.965667Z"
    }
   },
   "outputs": [],
   "source": [
    "if(p_value <  alpha):\n",
    "    print(\"Відхилити Н0.\")\n",
    "else:\n",
    "    print(\"Н0 не може бути відхилена.\")"
   ]
  },
  {
   "cell_type": "markdown",
   "id": "e76e73e1",
   "metadata": {},
   "source": [
    "## На двох вибірках"
   ]
  },
  {
   "cell_type": "markdown",
   "id": "2451ba9b",
   "metadata": {},
   "source": [
    "Порівняємо рівні IQ у двох різних містах."
   ]
  },
  {
   "cell_type": "code",
   "execution_count": null,
   "id": "5220d17e",
   "metadata": {
    "ExecuteTime": {
     "end_time": "2022-12-07T21:57:11.987942Z",
     "start_time": "2022-12-07T21:57:11.970770Z"
    }
   },
   "outputs": [],
   "source": [
    "cityA = [82, 84, 85, 89, 91, 91, 92, 94, 99, 99,\n",
    "         105, 109, 109, 109, 110, 112, 112, 113, 114, 114]\n",
    "\n",
    "cityB = [90, 91, 91, 91, 95, 95, 99, 99, 108, 109,\n",
    "         109, 114, 115, 116, 117, 117, 128, 129, 130, 133]"
   ]
  },
  {
   "cell_type": "code",
   "execution_count": null,
   "id": "037eda6a",
   "metadata": {
    "ExecuteTime": {
     "end_time": "2022-12-07T21:57:42.355858Z",
     "start_time": "2022-12-07T21:57:42.349712Z"
    }
   },
   "outputs": [],
   "source": [
    "np.mean(cityA), np.mean(cityB)"
   ]
  },
  {
   "cell_type": "markdown",
   "id": "29f9d1ba",
   "metadata": {
    "ExecuteTime": {
     "end_time": "2021-11-18T22:29:17.895822Z",
     "start_time": "2021-11-18T22:29:17.861475Z"
    }
   },
   "source": [
    "Виконуємо тест."
   ]
  },
  {
   "cell_type": "markdown",
   "id": "09a3e103",
   "metadata": {},
   "source": [
    "Важливий параметр методу ztest:\n",
    "- value : float  \n",
    "    In the one sample case, value is the mean of x1 under the Null\n",
    "    hypothesis.\n",
    "    In the two sample case, value is the difference between mean of x1 and\n",
    "    mean of x2 under the Null hypothesis. The test statistic is\n",
    "    `x1_mean - x2_mean - value`.\n",
    "    \n",
    "Метод z-test вертає\n",
    "\n",
    "- tstat : float,\n",
    "    test statistic\n",
    "- pvalue : float,\n",
    "    pvalue of the t-test"
   ]
  },
  {
   "cell_type": "code",
   "execution_count": null,
   "id": "1072f324",
   "metadata": {
    "ExecuteTime": {
     "end_time": "2022-12-07T21:59:24.319268Z",
     "start_time": "2022-12-07T21:59:24.313768Z"
    }
   },
   "outputs": [],
   "source": [
    "ztest(cityA, cityB, value=0)"
   ]
  },
  {
   "cell_type": "markdown",
   "id": "c8dd37db",
   "metadata": {
    "ExecuteTime": {
     "end_time": "2021-11-18T22:36:43.559957Z",
     "start_time": "2021-11-18T22:36:43.506713Z"
    }
   },
   "source": [
    "Статистика для двох вибірок z-критерію становить -1.9953, а відповідне p-value дорівнює 0.0460.\n",
    "\n",
    "Оскільки p-value < 0.05, у нас є достатньо доказів, щоб відкинути нульову гіпотезу. Іншими словами, середній рівень IQ значно різниться між двома містами."
   ]
  }
 ],
 "metadata": {
  "kernelspec": {
   "display_name": "Python 3 (ipykernel)",
   "language": "python",
   "name": "python3"
  },
  "language_info": {
   "codemirror_mode": {
    "name": "ipython",
    "version": 3
   },
   "file_extension": ".py",
   "mimetype": "text/x-python",
   "name": "python",
   "nbconvert_exporter": "python",
   "pygments_lexer": "ipython3",
   "version": "3.10.4"
  },
  "toc": {
   "base_numbering": 1,
   "nav_menu": {},
   "number_sections": true,
   "sideBar": true,
   "skip_h1_title": false,
   "title_cell": "Table of Contents",
   "title_sidebar": "Contents",
   "toc_cell": false,
   "toc_position": {},
   "toc_section_display": true,
   "toc_window_display": true
  },
  "vscode": {
   "interpreter": {
    "hash": "a6511e6b41b26ba86cca7483749cf4dd15bf137a2672e550741a656e19bba82e"
   }
  }
 },
 "nbformat": 4,
 "nbformat_minor": 5
}
